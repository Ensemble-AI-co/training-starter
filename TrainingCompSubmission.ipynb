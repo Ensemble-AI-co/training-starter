{
  "cells": [
    {
      "cell_type": "markdown",
      "metadata": {
        "id": "jqXr7FjLwvJE"
      },
      "source": [
        "### Download the training CSV from our repo"
      ]
    },
    {
      "cell_type": "code",
      "execution_count": 1,
      "metadata": {
        "colab": {
          "base_uri": "https://localhost:8080/"
        },
        "id": "7tuOg0xIrvvo",
        "outputId": "4a22eabd-748d-4545-8c98-55bea94c9646"
      },
      "outputs": [
        {
          "data": {
            "text/plain": [
              "0"
            ]
          },
          "execution_count": 1,
          "metadata": {},
          "output_type": "execute_result"
        }
      ],
      "source": [
        "import os\n",
        "\n",
        "# URL of the file to be downloaded\n",
        "url = 'https://github.com/Ensemble-AI-co/Public_datasets/raw/main/Friendly_competition_train.zip'\n",
        "\n",
        "# Using wget to download the file\n",
        "os.system(f'wget {url}')"
      ]
    },
    {
      "cell_type": "markdown",
      "metadata": {
        "id": "LL1ZiyeZtWv0"
      },
      "source": [
        "### Local Model Preprocessing and Training"
      ]
    },
    {
      "cell_type": "code",
      "execution_count": 28,
      "metadata": {
        "colab": {
          "base_uri": "https://localhost:8080/"
        },
        "id": "FM1imddO8uKz",
        "outputId": "f8233ee7-12d2-4933-f349-48c3f800942a"
      },
      "outputs": [
        {
          "name": "stderr",
          "output_type": "stream",
          "text": [
            "<ipython-input-28-e4745f9fa2a1>:1: DtypeWarning: Columns (9) have mixed types. Specify dtype option on import or set low_memory=False.\n",
            "  df = pd.read_csv('/content/Friendly_competition_train.zip')\n"
          ]
        }
      ],
      "source": [
        "df = pd.read_csv('/content/Friendly_competition_train.zip')"
      ]
    },
    {
      "cell_type": "code",
      "execution_count": 29,
      "metadata": {
        "colab": {
          "base_uri": "https://localhost:8080/",
          "height": 255
        },
        "id": "fVzRcOPctaCV",
        "outputId": "c7df621e-21cb-4c01-f3ad-960ea56d4ef0"
      },
      "outputs": [
        {
          "data": {
            "text/html": [
              "\n",
              "  <div id=\"df-82cf47ce-5bb1-4dbb-9eb4-6af687373ad6\" class=\"colab-df-container\">\n",
              "    <div>\n",
              "<style scoped>\n",
              "    .dataframe tbody tr th:only-of-type {\n",
              "        vertical-align: middle;\n",
              "    }\n",
              "\n",
              "    .dataframe tbody tr th {\n",
              "        vertical-align: top;\n",
              "    }\n",
              "\n",
              "    .dataframe thead th {\n",
              "        text-align: right;\n",
              "    }\n",
              "</style>\n",
              "<table border=\"1\" class=\"dataframe\">\n",
              "  <thead>\n",
              "    <tr style=\"text-align: right;\">\n",
              "      <th></th>\n",
              "      <th>1</th>\n",
              "      <th>2</th>\n",
              "      <th>3</th>\n",
              "      <th>4</th>\n",
              "      <th>5</th>\n",
              "      <th>6</th>\n",
              "      <th>7</th>\n",
              "      <th>8</th>\n",
              "      <th>9</th>\n",
              "      <th>10</th>\n",
              "      <th>...</th>\n",
              "      <th>162</th>\n",
              "      <th>163</th>\n",
              "      <th>164</th>\n",
              "      <th>165</th>\n",
              "      <th>166</th>\n",
              "      <th>167</th>\n",
              "      <th>168</th>\n",
              "      <th>169</th>\n",
              "      <th>170</th>\n",
              "      <th>Results</th>\n",
              "    </tr>\n",
              "  </thead>\n",
              "  <tbody>\n",
              "    <tr>\n",
              "      <th>0</th>\n",
              "      <td>0.148148</td>\n",
              "      <td>0.033333</td>\n",
              "      <td>0.393939</td>\n",
              "      <td>0.153689</td>\n",
              "      <td>0.145071</td>\n",
              "      <td>0.562333</td>\n",
              "      <td>0.146565</td>\n",
              "      <td>0.144747</td>\n",
              "      <td>0.014625</td>\n",
              "      <td>NaN</td>\n",
              "      <td>...</td>\n",
              "      <td>False</td>\n",
              "      <td>False</td>\n",
              "      <td>False</td>\n",
              "      <td>False</td>\n",
              "      <td>True</td>\n",
              "      <td>False</td>\n",
              "      <td>False</td>\n",
              "      <td>False</td>\n",
              "      <td>False</td>\n",
              "      <td>1.0</td>\n",
              "    </tr>\n",
              "    <tr>\n",
              "      <th>1</th>\n",
              "      <td>0.481481</td>\n",
              "      <td>0.033333</td>\n",
              "      <td>0.315632</td>\n",
              "      <td>0.112705</td>\n",
              "      <td>0.132876</td>\n",
              "      <td>0.456500</td>\n",
              "      <td>0.109160</td>\n",
              "      <td>0.132791</td>\n",
              "      <td>0.090201</td>\n",
              "      <td>NaN</td>\n",
              "      <td>...</td>\n",
              "      <td>False</td>\n",
              "      <td>False</td>\n",
              "      <td>False</td>\n",
              "      <td>False</td>\n",
              "      <td>True</td>\n",
              "      <td>False</td>\n",
              "      <td>False</td>\n",
              "      <td>False</td>\n",
              "      <td>False</td>\n",
              "      <td>0.0</td>\n",
              "    </tr>\n",
              "    <tr>\n",
              "      <th>2</th>\n",
              "      <td>0.444444</td>\n",
              "      <td>0.233333</td>\n",
              "      <td>0.282028</td>\n",
              "      <td>0.518443</td>\n",
              "      <td>0.683689</td>\n",
              "      <td>0.456500</td>\n",
              "      <td>0.562595</td>\n",
              "      <td>0.684559</td>\n",
              "      <td>0.015614</td>\n",
              "      <td>NaN</td>\n",
              "      <td>...</td>\n",
              "      <td>False</td>\n",
              "      <td>False</td>\n",
              "      <td>False</td>\n",
              "      <td>False</td>\n",
              "      <td>True</td>\n",
              "      <td>False</td>\n",
              "      <td>False</td>\n",
              "      <td>False</td>\n",
              "      <td>False</td>\n",
              "      <td>0.0</td>\n",
              "    </tr>\n",
              "    <tr>\n",
              "      <th>3</th>\n",
              "      <td>0.296296</td>\n",
              "      <td>0.233333</td>\n",
              "      <td>0.318332</td>\n",
              "      <td>0.014344</td>\n",
              "      <td>0.016768</td>\n",
              "      <td>0.353500</td>\n",
              "      <td>0.010687</td>\n",
              "      <td>0.016790</td>\n",
              "      <td>0.057424</td>\n",
              "      <td>NaN</td>\n",
              "      <td>...</td>\n",
              "      <td>False</td>\n",
              "      <td>False</td>\n",
              "      <td>False</td>\n",
              "      <td>False</td>\n",
              "      <td>False</td>\n",
              "      <td>True</td>\n",
              "      <td>False</td>\n",
              "      <td>False</td>\n",
              "      <td>False</td>\n",
              "      <td>1.0</td>\n",
              "    </tr>\n",
              "    <tr>\n",
              "      <th>4</th>\n",
              "      <td>0.518519</td>\n",
              "      <td>0.400000</td>\n",
              "      <td>0.261026</td>\n",
              "      <td>0.016393</td>\n",
              "      <td>0.023374</td>\n",
              "      <td>0.380500</td>\n",
              "      <td>0.016031</td>\n",
              "      <td>0.023404</td>\n",
              "      <td>0.072221</td>\n",
              "      <td>93.04</td>\n",
              "      <td>...</td>\n",
              "      <td>False</td>\n",
              "      <td>False</td>\n",
              "      <td>False</td>\n",
              "      <td>False</td>\n",
              "      <td>False</td>\n",
              "      <td>False</td>\n",
              "      <td>True</td>\n",
              "      <td>False</td>\n",
              "      <td>False</td>\n",
              "      <td>0.0</td>\n",
              "    </tr>\n",
              "  </tbody>\n",
              "</table>\n",
              "<p>5 rows × 171 columns</p>\n",
              "</div>\n",
              "    <div class=\"colab-df-buttons\">\n",
              "\n",
              "  <div class=\"colab-df-container\">\n",
              "    <button class=\"colab-df-convert\" onclick=\"convertToInteractive('df-82cf47ce-5bb1-4dbb-9eb4-6af687373ad6')\"\n",
              "            title=\"Convert this dataframe to an interactive table.\"\n",
              "            style=\"display:none;\">\n",
              "\n",
              "  <svg xmlns=\"http://www.w3.org/2000/svg\" height=\"24px\" viewBox=\"0 -960 960 960\">\n",
              "    <path d=\"M120-120v-720h720v720H120Zm60-500h600v-160H180v160Zm220 220h160v-160H400v160Zm0 220h160v-160H400v160ZM180-400h160v-160H180v160Zm440 0h160v-160H620v160ZM180-180h160v-160H180v160Zm440 0h160v-160H620v160Z\"/>\n",
              "  </svg>\n",
              "    </button>\n",
              "\n",
              "  <style>\n",
              "    .colab-df-container {\n",
              "      display:flex;\n",
              "      gap: 12px;\n",
              "    }\n",
              "\n",
              "    .colab-df-convert {\n",
              "      background-color: #E8F0FE;\n",
              "      border: none;\n",
              "      border-radius: 50%;\n",
              "      cursor: pointer;\n",
              "      display: none;\n",
              "      fill: #1967D2;\n",
              "      height: 32px;\n",
              "      padding: 0 0 0 0;\n",
              "      width: 32px;\n",
              "    }\n",
              "\n",
              "    .colab-df-convert:hover {\n",
              "      background-color: #E2EBFA;\n",
              "      box-shadow: 0px 1px 2px rgba(60, 64, 67, 0.3), 0px 1px 3px 1px rgba(60, 64, 67, 0.15);\n",
              "      fill: #174EA6;\n",
              "    }\n",
              "\n",
              "    .colab-df-buttons div {\n",
              "      margin-bottom: 4px;\n",
              "    }\n",
              "\n",
              "    [theme=dark] .colab-df-convert {\n",
              "      background-color: #3B4455;\n",
              "      fill: #D2E3FC;\n",
              "    }\n",
              "\n",
              "    [theme=dark] .colab-df-convert:hover {\n",
              "      background-color: #434B5C;\n",
              "      box-shadow: 0px 1px 3px 1px rgba(0, 0, 0, 0.15);\n",
              "      filter: drop-shadow(0px 1px 2px rgba(0, 0, 0, 0.3));\n",
              "      fill: #FFFFFF;\n",
              "    }\n",
              "  </style>\n",
              "\n",
              "    <script>\n",
              "      const buttonEl =\n",
              "        document.querySelector('#df-82cf47ce-5bb1-4dbb-9eb4-6af687373ad6 button.colab-df-convert');\n",
              "      buttonEl.style.display =\n",
              "        google.colab.kernel.accessAllowed ? 'block' : 'none';\n",
              "\n",
              "      async function convertToInteractive(key) {\n",
              "        const element = document.querySelector('#df-82cf47ce-5bb1-4dbb-9eb4-6af687373ad6');\n",
              "        const dataTable =\n",
              "          await google.colab.kernel.invokeFunction('convertToInteractive',\n",
              "                                                    [key], {});\n",
              "        if (!dataTable) return;\n",
              "\n",
              "        const docLinkHtml = 'Like what you see? Visit the ' +\n",
              "          '<a target=\"_blank\" href=https://colab.research.google.com/notebooks/data_table.ipynb>data table notebook</a>'\n",
              "          + ' to learn more about interactive tables.';\n",
              "        element.innerHTML = '';\n",
              "        dataTable['output_type'] = 'display_data';\n",
              "        await google.colab.output.renderOutput(dataTable, element);\n",
              "        const docLink = document.createElement('div');\n",
              "        docLink.innerHTML = docLinkHtml;\n",
              "        element.appendChild(docLink);\n",
              "      }\n",
              "    </script>\n",
              "  </div>\n",
              "\n",
              "\n",
              "<div id=\"df-a9c4baf7-abb7-43b4-81dc-77e63b1af939\">\n",
              "  <button class=\"colab-df-quickchart\" onclick=\"quickchart('df-a9c4baf7-abb7-43b4-81dc-77e63b1af939')\"\n",
              "            title=\"Suggest charts\"\n",
              "            style=\"display:none;\">\n",
              "\n",
              "<svg xmlns=\"http://www.w3.org/2000/svg\" height=\"24px\"viewBox=\"0 0 24 24\"\n",
              "     width=\"24px\">\n",
              "    <g>\n",
              "        <path d=\"M19 3H5c-1.1 0-2 .9-2 2v14c0 1.1.9 2 2 2h14c1.1 0 2-.9 2-2V5c0-1.1-.9-2-2-2zM9 17H7v-7h2v7zm4 0h-2V7h2v10zm4 0h-2v-4h2v4z\"/>\n",
              "    </g>\n",
              "</svg>\n",
              "  </button>\n",
              "\n",
              "<style>\n",
              "  .colab-df-quickchart {\n",
              "      --bg-color: #E8F0FE;\n",
              "      --fill-color: #1967D2;\n",
              "      --hover-bg-color: #E2EBFA;\n",
              "      --hover-fill-color: #174EA6;\n",
              "      --disabled-fill-color: #AAA;\n",
              "      --disabled-bg-color: #DDD;\n",
              "  }\n",
              "\n",
              "  [theme=dark] .colab-df-quickchart {\n",
              "      --bg-color: #3B4455;\n",
              "      --fill-color: #D2E3FC;\n",
              "      --hover-bg-color: #434B5C;\n",
              "      --hover-fill-color: #FFFFFF;\n",
              "      --disabled-bg-color: #3B4455;\n",
              "      --disabled-fill-color: #666;\n",
              "  }\n",
              "\n",
              "  .colab-df-quickchart {\n",
              "    background-color: var(--bg-color);\n",
              "    border: none;\n",
              "    border-radius: 50%;\n",
              "    cursor: pointer;\n",
              "    display: none;\n",
              "    fill: var(--fill-color);\n",
              "    height: 32px;\n",
              "    padding: 0;\n",
              "    width: 32px;\n",
              "  }\n",
              "\n",
              "  .colab-df-quickchart:hover {\n",
              "    background-color: var(--hover-bg-color);\n",
              "    box-shadow: 0 1px 2px rgba(60, 64, 67, 0.3), 0 1px 3px 1px rgba(60, 64, 67, 0.15);\n",
              "    fill: var(--button-hover-fill-color);\n",
              "  }\n",
              "\n",
              "  .colab-df-quickchart-complete:disabled,\n",
              "  .colab-df-quickchart-complete:disabled:hover {\n",
              "    background-color: var(--disabled-bg-color);\n",
              "    fill: var(--disabled-fill-color);\n",
              "    box-shadow: none;\n",
              "  }\n",
              "\n",
              "  .colab-df-spinner {\n",
              "    border: 2px solid var(--fill-color);\n",
              "    border-color: transparent;\n",
              "    border-bottom-color: var(--fill-color);\n",
              "    animation:\n",
              "      spin 1s steps(1) infinite;\n",
              "  }\n",
              "\n",
              "  @keyframes spin {\n",
              "    0% {\n",
              "      border-color: transparent;\n",
              "      border-bottom-color: var(--fill-color);\n",
              "      border-left-color: var(--fill-color);\n",
              "    }\n",
              "    20% {\n",
              "      border-color: transparent;\n",
              "      border-left-color: var(--fill-color);\n",
              "      border-top-color: var(--fill-color);\n",
              "    }\n",
              "    30% {\n",
              "      border-color: transparent;\n",
              "      border-left-color: var(--fill-color);\n",
              "      border-top-color: var(--fill-color);\n",
              "      border-right-color: var(--fill-color);\n",
              "    }\n",
              "    40% {\n",
              "      border-color: transparent;\n",
              "      border-right-color: var(--fill-color);\n",
              "      border-top-color: var(--fill-color);\n",
              "    }\n",
              "    60% {\n",
              "      border-color: transparent;\n",
              "      border-right-color: var(--fill-color);\n",
              "    }\n",
              "    80% {\n",
              "      border-color: transparent;\n",
              "      border-right-color: var(--fill-color);\n",
              "      border-bottom-color: var(--fill-color);\n",
              "    }\n",
              "    90% {\n",
              "      border-color: transparent;\n",
              "      border-bottom-color: var(--fill-color);\n",
              "    }\n",
              "  }\n",
              "</style>\n",
              "\n",
              "  <script>\n",
              "    async function quickchart(key) {\n",
              "      const quickchartButtonEl =\n",
              "        document.querySelector('#' + key + ' button');\n",
              "      quickchartButtonEl.disabled = true;  // To prevent multiple clicks.\n",
              "      quickchartButtonEl.classList.add('colab-df-spinner');\n",
              "      try {\n",
              "        const charts = await google.colab.kernel.invokeFunction(\n",
              "            'suggestCharts', [key], {});\n",
              "      } catch (error) {\n",
              "        console.error('Error during call to suggestCharts:', error);\n",
              "      }\n",
              "      quickchartButtonEl.classList.remove('colab-df-spinner');\n",
              "      quickchartButtonEl.classList.add('colab-df-quickchart-complete');\n",
              "    }\n",
              "    (() => {\n",
              "      let quickchartButtonEl =\n",
              "        document.querySelector('#df-a9c4baf7-abb7-43b4-81dc-77e63b1af939 button');\n",
              "      quickchartButtonEl.style.display =\n",
              "        google.colab.kernel.accessAllowed ? 'block' : 'none';\n",
              "    })();\n",
              "  </script>\n",
              "</div>\n",
              "\n",
              "    </div>\n",
              "  </div>\n"
            ],
            "text/plain": [
              "          1         2         3         4         5         6         7  \\\n",
              "0  0.148148  0.033333  0.393939  0.153689  0.145071  0.562333  0.146565   \n",
              "1  0.481481  0.033333  0.315632  0.112705  0.132876  0.456500  0.109160   \n",
              "2  0.444444  0.233333  0.282028  0.518443  0.683689  0.456500  0.562595   \n",
              "3  0.296296  0.233333  0.318332  0.014344  0.016768  0.353500  0.010687   \n",
              "4  0.518519  0.400000  0.261026  0.016393  0.023374  0.380500  0.016031   \n",
              "\n",
              "          8         9     10  ...    162    163    164    165    166    167  \\\n",
              "0  0.144747  0.014625    NaN  ...  False  False  False  False   True  False   \n",
              "1  0.132791  0.090201    NaN  ...  False  False  False  False   True  False   \n",
              "2  0.684559  0.015614    NaN  ...  False  False  False  False   True  False   \n",
              "3  0.016790  0.057424    NaN  ...  False  False  False  False  False   True   \n",
              "4  0.023404  0.072221  93.04  ...  False  False  False  False  False  False   \n",
              "\n",
              "     168    169    170  Results  \n",
              "0  False  False  False      1.0  \n",
              "1  False  False  False      0.0  \n",
              "2  False  False  False      0.0  \n",
              "3  False  False  False      1.0  \n",
              "4   True  False  False      0.0  \n",
              "\n",
              "[5 rows x 171 columns]"
            ]
          },
          "execution_count": 29,
          "metadata": {},
          "output_type": "execute_result"
        }
      ],
      "source": [
        "df.head()"
      ]
    },
    {
      "cell_type": "markdown",
      "metadata": {
        "id": "DDMLBB8ltcoN"
      },
      "source": [
        "#### We observe a very imbalanced dataset"
      ]
    },
    {
      "cell_type": "code",
      "execution_count": 24,
      "metadata": {
        "colab": {
          "base_uri": "https://localhost:8080/"
        },
        "id": "HihTDq05JKzM",
        "outputId": "692e0fcd-21cb-4366-9b72-59d6aede5707"
      },
      "outputs": [
        {
          "name": "stdout",
          "output_type": "stream",
          "text": [
            "Examples:\n",
            "    Total: 22498\n",
            "    Positive: 2393 (10.64% of total)\n",
            "\n"
          ]
        }
      ],
      "source": [
        "import numpy as np\n",
        "neg, pos = np.bincount(df['Results'])\n",
        "total = neg + pos\n",
        "print('Examples:\\n    Total: {}\\n    Positive: {} ({:.2f}% of total)\\n'.format(\n",
        "    total, pos, 100 * pos / total))"
      ]
    },
    {
      "cell_type": "code",
      "execution_count": 25,
      "metadata": {
        "id": "z3xG0874HotR"
      },
      "outputs": [],
      "source": [
        "!pip install imbalanced-learn"
      ]
    },
    {
      "cell_type": "markdown",
      "metadata": {
        "id": "3kAW0oX0uZje"
      },
      "source": [
        "### Create a balanced dataset for training\n",
        "\n",
        "This is an example local pretraining code, our submission won't need to worry about balancing any data (as its simply for running inference)."
      ]
    },
    {
      "cell_type": "code",
      "execution_count": 30,
      "metadata": {
        "id": "JgqupOhvH0v1"
      },
      "outputs": [],
      "source": [
        "import pandas as pd\n",
        "import numpy as np\n",
        "from sklearn.model_selection import train_test_split\n",
        "from sklearn.preprocessing import StandardScaler\n",
        "from imblearn.over_sampling import SMOTE\n",
        "from imblearn.under_sampling import RandomUnderSampler\n",
        "import torch\n",
        "from torch.utils.data import DataLoader, TensorDataset\n",
        "\n",
        "df = df.drop(['10'], axis=1)\n",
        "X = df.iloc[:, :-1].values\n",
        "y = df.iloc[:, -1].values\n",
        "X_train, X_test, y_train, y_test = train_test_split(X, y, test_size=0.2, random_state=42)\n",
        "smote = SMOTE(random_state=42)\n",
        "X_train_smote, y_train_smote = smote.fit_resample(X_train, y_train)\n",
        "undersampler = RandomUnderSampler(random_state=42)\n",
        "X_train_balanced, y_train_balanced = undersampler.fit_resample(X_train_smote, y_train_smote)\n",
        "scaler = StandardScaler()\n",
        "X_train_balanced = scaler.fit_transform(X_train_balanced)\n",
        "X_train = scaler.transform(X_train)\n",
        "X_test = scaler.transform(X_test)\n",
        "X_train_balanced = torch.tensor(X_train_balanced, dtype=torch.float32)\n",
        "y_train_balanced = torch.tensor(y_train_balanced, dtype=torch.long)\n",
        "X_train = torch.tensor(X_train, dtype=torch.float32)\n",
        "y_train = torch.tensor(y_train, dtype=torch.long)\n",
        "X_test = torch.tensor(X_test, dtype=torch.float32)\n",
        "y_test = torch.tensor(y_test, dtype=torch.long)\n",
        "train_dataset_balanced = TensorDataset(X_train_balanced, y_train_balanced)\n",
        "train_dataset = TensorDataset(X_train, y_train)\n",
        "test_dataset = TensorDataset(X_test, y_test)\n",
        "batch_size = 32\n",
        "train_loader = DataLoader(dataset=train_dataset_balanced, batch_size=batch_size, shuffle=True)\n",
        "test_loader = DataLoader(dataset=test_dataset, batch_size=len(test_dataset), shuffle=False)"
      ]
    },
    {
      "cell_type": "markdown",
      "metadata": {
        "id": "2zgHC1AZu3HG"
      },
      "source": [
        "### Verify the training loader is balanced"
      ]
    },
    {
      "cell_type": "code",
      "execution_count": 36,
      "metadata": {
        "colab": {
          "base_uri": "https://localhost:8080/"
        },
        "id": "OneTsFiOJfWy",
        "outputId": "e2458a0b-0680-4131-9ca3-d778a45af869"
      },
      "outputs": [
        {
          "name": "stdout",
          "output_type": "stream",
          "text": [
            "Class Distribution:\n",
            "Class 0: 16086 samples (50.00% of total)\n",
            "Class 1: 16086 samples (50.00% of total)\n"
          ]
        }
      ],
      "source": [
        "total_samples = 0\n",
        "class_counts = {}\n",
        "for data, labels in train_loader:\n",
        "    total_samples += len(data)\n",
        "    for label in labels:\n",
        "        label = label.item()\n",
        "        if label in class_counts:\n",
        "            class_counts[label] += 1\n",
        "        else:\n",
        "            class_counts[label] = 1\n",
        "print(\"Class Distribution:\")\n",
        "for label, count in class_counts.items():\n",
        "    percentage = (count / total_samples) * 100\n",
        "    print(f\"Class {label}: {count} samples ({percentage:.2f}% of total)\")"
      ]
    },
    {
      "cell_type": "markdown",
      "metadata": {
        "id": "dPlM7ql8u8kN"
      },
      "source": [
        "### Pytorch Training code"
      ]
    },
    {
      "cell_type": "code",
      "execution_count": 39,
      "metadata": {
        "colab": {
          "base_uri": "https://localhost:8080/"
        },
        "id": "ni_JkAHUAF9n",
        "outputId": "a3bf3836-b42a-4c82-d149-ab11ffae8851"
      },
      "outputs": [
        {
          "name": "stdout",
          "output_type": "stream",
          "text": [
            "Epoch 1/30, Training Loss: 0.6519, Test Loss: 0.5566, Test F1: 0.3056\n",
            "Epoch 2/30, Training Loss: 0.5744, Test Loss: 0.5443, Test F1: 0.3133\n",
            "Epoch 3/30, Training Loss: 0.5439, Test Loss: 0.5511, Test F1: 0.3166\n",
            "Epoch 4/30, Training Loss: 0.5203, Test Loss: 0.5243, Test F1: 0.3240\n",
            "Epoch 5/30, Training Loss: 0.5034, Test Loss: 0.5344, Test F1: 0.3283\n",
            "Epoch 6/30, Training Loss: 0.4888, Test Loss: 0.5289, Test F1: 0.3251\n",
            "Epoch 7/30, Training Loss: 0.4745, Test Loss: 0.5112, Test F1: 0.3226\n",
            "Epoch 8/30, Training Loss: 0.4644, Test Loss: 0.5113, Test F1: 0.3335\n",
            "Epoch 9/30, Training Loss: 0.4535, Test Loss: 0.5129, Test F1: 0.3275\n",
            "Epoch 10/30, Training Loss: 0.4452, Test Loss: 0.5132, Test F1: 0.3193\n",
            "Epoch 11/30, Training Loss: 0.4323, Test Loss: 0.5038, Test F1: 0.3179\n",
            "Epoch 12/30, Training Loss: 0.4223, Test Loss: 0.4856, Test F1: 0.3166\n",
            "Epoch 13/30, Training Loss: 0.4152, Test Loss: 0.5011, Test F1: 0.3166\n",
            "Epoch 14/30, Training Loss: 0.4092, Test Loss: 0.5190, Test F1: 0.3104\n",
            "Epoch 15/30, Training Loss: 0.4011, Test Loss: 0.5021, Test F1: 0.3126\n",
            "Epoch 16/30, Training Loss: 0.3956, Test Loss: 0.5083, Test F1: 0.3090\n",
            "Epoch 17/30, Training Loss: 0.3893, Test Loss: 0.5064, Test F1: 0.3089\n",
            "Epoch 18/30, Training Loss: 0.3859, Test Loss: 0.4914, Test F1: 0.3033\n",
            "Epoch 19/30, Training Loss: 0.3791, Test Loss: 0.4900, Test F1: 0.3075\n",
            "Epoch 20/30, Training Loss: 0.3731, Test Loss: 0.4990, Test F1: 0.3081\n",
            "Epoch 21/30, Training Loss: 0.3784, Test Loss: 0.5033, Test F1: 0.3084\n",
            "Epoch 22/30, Training Loss: 0.3707, Test Loss: 0.4950, Test F1: 0.3035\n",
            "Epoch 23/30, Training Loss: 0.3669, Test Loss: 0.5044, Test F1: 0.3038\n",
            "Epoch 24/30, Training Loss: 0.3675, Test Loss: 0.5039, Test F1: 0.3031\n",
            "Epoch 25/30, Training Loss: 0.3686, Test Loss: 0.5005, Test F1: 0.3008\n",
            "Epoch 26/30, Training Loss: 0.3602, Test Loss: 0.5016, Test F1: 0.3006\n",
            "Epoch 27/30, Training Loss: 0.3638, Test Loss: 0.4966, Test F1: 0.2985\n",
            "Epoch 28/30, Training Loss: 0.3622, Test Loss: 0.5012, Test F1: 0.2984\n",
            "Epoch 29/30, Training Loss: 0.3633, Test Loss: 0.5018, Test F1: 0.2978\n",
            "Epoch 30/30, Training Loss: 0.3650, Test Loss: 0.5015, Test F1: 0.2978\n"
          ]
        }
      ],
      "source": [
        "import torch\n",
        "import torch.nn as nn\n",
        "import torch.optim as optim\n",
        "from torch.optim.lr_scheduler import CosineAnnealingLR\n",
        "from sklearn.metrics import precision_score, recall_score, f1_score, roc_auc_score\n",
        "\n",
        "class BinaryClassifier(nn.Module):\n",
        "    def __init__(self):\n",
        "        super(BinaryClassifier, self).__init__()\n",
        "        self.layer_1 = nn.Linear(169, 128)\n",
        "        self.dropout_1 = nn.Dropout(0.2)\n",
        "        self.layer_2 = nn.Linear(128, 64)\n",
        "        self.dropout_2 = nn.Dropout(0.3)\n",
        "        self.layer_3 = nn.Linear(64, 32)\n",
        "        self.dropout_3 = nn.Dropout(0.6)\n",
        "        self.layer_4 = nn.Linear(32, 16)\n",
        "        self.dropout_4 = nn.Dropout(0.3)\n",
        "        self.layer_out = nn.Linear(16, 2)\n",
        "        self.relu = nn.ReLU()\n",
        "\n",
        "    def forward(self, inputs):\n",
        "        x = self.relu(self.layer_1(inputs))\n",
        "        x = self.dropout_1(x)\n",
        "        x = self.relu(self.layer_2(x))\n",
        "        x = self.dropout_2(x)\n",
        "        x = self.relu(self.layer_3(x))\n",
        "        x = self.dropout_3(x)\n",
        "        x = self.relu(self.layer_4(x))\n",
        "        x = self.dropout_4(x)\n",
        "        x = self.layer_out(x)\n",
        "        return x\n",
        "\n",
        "model = BinaryClassifier()\n",
        "epochs = 30\n",
        "weight_decay = 1e-4\n",
        "criterion = nn.CrossEntropyLoss()\n",
        "optimizer = optim.Adam(model.parameters(), lr=0.0001, weight_decay=weight_decay)\n",
        "scheduler = CosineAnnealingLR(optimizer, T_max=epochs, eta_min=0)\n",
        "\n",
        "for epoch in range(epochs):\n",
        "    model.train()\n",
        "    train_loss = 0.0\n",
        "    for X_batch, y_batch in train_loader:\n",
        "        optimizer.zero_grad()\n",
        "        outputs = model(X_batch)\n",
        "        loss = criterion(outputs, y_batch)\n",
        "        loss.backward()\n",
        "        optimizer.step()\n",
        "        train_loss += loss.item() * X_batch.size(0)\n",
        "    train_loss /= len(train_loader.dataset)\n",
        "\n",
        "    model.eval()\n",
        "    test_loss = 0.0\n",
        "    with torch.no_grad():\n",
        "        for X_batch, y_batch in test_loader:\n",
        "            outputs = model(X_batch)\n",
        "            loss = criterion(outputs, y_batch)\n",
        "            test_loss += loss.item() * X_batch.size(0)\n",
        "    test_loss /= len(test_loader.dataset)\n",
        "\n",
        "    scheduler.step()\n",
        "\n",
        "    y_true = []\n",
        "    y_pred = []\n",
        "    with torch.no_grad():\n",
        "        for X_batch, y_batch in test_loader:\n",
        "            outputs = model(X_batch)\n",
        "            _, predicted = torch.max(outputs, 1)\n",
        "            y_true.extend(y_batch.tolist())\n",
        "            y_pred.extend(predicted.tolist())\n",
        "\n",
        "    f1 = f1_score(y_true, y_pred)\n",
        "    print(f'Epoch {epoch+1}/{epochs}, Training Loss: {train_loss:.4f}, Test Loss: {test_loss:.4f}, Test F1: {f1:.4f}')\n"
      ]
    },
    {
      "cell_type": "markdown",
      "metadata": {
        "id": "TCazTtq5w8y9"
      },
      "source": [
        "### Training observations\n",
        "\n",
        "Clearly, our model did not train very successfully. Feel free to alter preprocessing, feature engineering, model architecture, and training techniques!"
      ]
    },
    {
      "cell_type": "code",
      "execution_count": 42,
      "metadata": {
        "id": "TbKwilBFP6gh"
      },
      "outputs": [],
      "source": [
        "\"\"\"USE THIS FUNCTION TO SAVE YOUR MODEL FOR SUBMISSION\"\"\"\n",
        "def save_model(model, model_name: str):\n",
        "  trained_model_rep = torch.jit.script(model)\n",
        "  trained_model_rep.save(model_name)"
      ]
    },
    {
      "cell_type": "code",
      "execution_count": 41,
      "metadata": {
        "id": "GvEwSjobP7Ny"
      },
      "outputs": [],
      "source": [
        "save_model(model, \"model.pth\")"
      ]
    },
    {
      "cell_type": "markdown",
      "metadata": {
        "id": "m917rv9QsRU5"
      },
      "source": [
        "### preprocess.py\n",
        "The following cell contains the entire contents of preprocess.py for our example submission. In order to run inference on our model, we only need to drop column 10 and convert everything to tensors."
      ]
    },
    {
      "cell_type": "code",
      "execution_count": null,
      "metadata": {
        "id": "smNS6wit8iNe"
      },
      "outputs": [],
      "source": [
        "from torch.utils.data import DataLoader, TensorDataset\n",
        "import pandas as pd\n",
        "import torch\n",
        "\n",
        "def create_dataloader_for_test(df, batch_size=64):\n",
        "   df = df.drop(['10'], axis=1)\n",
        "   X = df.astype(float)\n",
        "   X = torch.tensor(X.values, dtype=torch.float32)\n",
        "   dataset = TensorDataset(X)\n",
        "   batch_size = 32\n",
        "   loader = DataLoader(dataset=dataset, batch_size=len(dataset), shuffle=False)\n",
        "   torch.save(loader, 'dataloader.pth')"
      ]
    },
    {
      "cell_type": "markdown",
      "metadata": {
        "id": "FGYwvfaBwnEh"
      },
      "source": [
        "### Submission Instructions\n"
      ]
    },
    {
      "cell_type": "markdown",
      "metadata": {
        "id": "lQfAW3mywlDP"
      },
      "source": [
        "Download your trained model.pth from here and submit it on our web UI alongside preprocess.py (see above cell) and requirements.txt. Examples of those 3 files are in the starter repo with this notebook."
      ]
    }
  ],
  "metadata": {
    "accelerator": "GPU",
    "colab": {
      "gpuType": "T4",
      "provenance": []
    },
    "kernelspec": {
      "display_name": "Python 3",
      "name": "python3"
    },
    "language_info": {
      "name": "python"
    }
  },
  "nbformat": 4,
  "nbformat_minor": 0
}
